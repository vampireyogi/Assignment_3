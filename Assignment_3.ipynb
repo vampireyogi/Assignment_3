{
 "cells": [
  {
   "cell_type": "markdown",
   "id": "089b032c",
   "metadata": {},
   "source": [
    "1. Why are functions advantageous to have in your programs?\n",
    "- Advantages of functions\n",
    "- Functions allow the same piece of code to run multiple times\n",
    "- Functions break long programs up into smaller components\n",
    "- Functions can be shared and used by other programmers"
   ]
  },
  {
   "cell_type": "markdown",
   "id": "364e258a",
   "metadata": {},
   "source": [
    "2. When does the code in a function run: when it&#39;s specified or when it&#39;s called?\n",
    "- code in function run when it's called"
   ]
  },
  {
   "cell_type": "markdown",
   "id": "be277182",
   "metadata": {},
   "source": [
    "3. What statement creates a function?\n",
    "- statement for creation of function"
   ]
  },
  {
   "cell_type": "code",
   "execution_count": 4,
   "id": "0c5162f5",
   "metadata": {},
   "outputs": [
    {
     "name": "stdout",
     "output_type": "stream",
     "text": [
      "Hello, I am new function\n"
     ]
    }
   ],
   "source": [
    "def newFunction():                     # Statement to create function\n",
    "    print(\"Hello, I am new function\")  # Function code\n",
    "\n",
    "newFunction()                          # Function call"
   ]
  },
  {
   "cell_type": "markdown",
   "id": "3db0619b",
   "metadata": {},
   "source": [
    "4. What is the difference between a function and a function call?\n",
    "- A function is a block of code that performs a task and A function call is the code that passes control to a function and provides any inputs as parameters"
   ]
  },
  {
   "cell_type": "markdown",
   "id": "941c6947",
   "metadata": {},
   "source": [
    "5. How many global scopes are there in a Python program? How many local scopes?\n",
    "- There is only one global scope in a Python program.There can be multiple local scopes in a Python program, depending on how many functions or lambda expressions are defined"
   ]
  },
  {
   "cell_type": "markdown",
   "id": "59b8cb56",
   "metadata": {},
   "source": [
    "6. What happens to variables in a local scope when the function call returns?\n",
    "- variables in a local scope are destroyed and their values are no longer accessible when the function call returns"
   ]
  },
  {
   "cell_type": "markdown",
   "id": "74791b52",
   "metadata": {},
   "source": [
    "7. What is the concept of a return value? Is it possible to have a return value in an expression?\n",
    "- A return value is the result of a function that is sent back to the caller. A return value can be used in an expression as long as it is compatible with the operators and operands in the expression"
   ]
  },
  {
   "cell_type": "markdown",
   "id": "3ee87972",
   "metadata": {},
   "source": [
    "8. If a function does not have a return statement, what is the return value of a call to that function?\n",
    "- It returns None"
   ]
  },
  {
   "cell_type": "markdown",
   "id": "8178a816",
   "metadata": {},
   "source": [
    "9. How do you make a function variable refer to the global variable?\n",
    "- To create a global variable inside a function, you can use the global keyword."
   ]
  },
  {
   "cell_type": "code",
   "execution_count": 1,
   "id": "09232dd6",
   "metadata": {},
   "outputs": [],
   "source": [
    "# e.g.\n",
    "def new():\n",
    "    global x=50"
   ]
  },
  {
   "cell_type": "markdown",
   "id": "d4c34186",
   "metadata": {},
   "source": [
    "10. What is the data type of None?\n",
    "- NoneType"
   ]
  },
  {
   "cell_type": "code",
   "execution_count": 3,
   "id": "911a3da2",
   "metadata": {},
   "outputs": [
    {
     "name": "stdout",
     "output_type": "stream",
     "text": [
      "<class 'NoneType'>\n"
     ]
    }
   ],
   "source": [
    "print(type(None))"
   ]
  },
  {
   "cell_type": "markdown",
   "id": "dc7c5412",
   "metadata": {},
   "source": [
    "11. What does the sentence import areallyourpetsnamederic do?\n",
    "- This sentence import areallyourpetsnamederic function/module to our ram"
   ]
  },
  {
   "cell_type": "markdown",
   "id": "762c822a",
   "metadata": {},
   "source": [
    "12. If you had a bacon() feature in a spam module, what would you call it after importing spam?\n",
    "- spam.bacon()"
   ]
  },
  {
   "cell_type": "markdown",
   "id": "efda09ac",
   "metadata": {},
   "source": [
    "13. What can you do to save a programme from crashing if it encounters an error?\n",
    "- we can use try…catch blocks to handle exceptions in our code"
   ]
  },
  {
   "cell_type": "markdown",
   "id": "c34b50a6",
   "metadata": {},
   "source": [
    "14. What is the purpose of the try clause? What is the purpose of the except clause?\n",
    "- The try clause is used to test a block of code for errors. The except clause is used to handle the error if it occurs"
   ]
  }
 ],
 "metadata": {
  "kernelspec": {
   "display_name": "Python 3 (ipykernel)",
   "language": "python",
   "name": "python3"
  },
  "language_info": {
   "codemirror_mode": {
    "name": "ipython",
    "version": 3
   },
   "file_extension": ".py",
   "mimetype": "text/x-python",
   "name": "python",
   "nbconvert_exporter": "python",
   "pygments_lexer": "ipython3",
   "version": "3.11.3"
  }
 },
 "nbformat": 4,
 "nbformat_minor": 5
}
